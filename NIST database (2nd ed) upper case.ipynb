{
 "cells": [
  {
   "cell_type": "markdown",
   "metadata": {},
   "source": [
    "# Model for NIST database uppercase characters\n",
    "    - Model with the roposed architecture over the uppercase characters of NIST database\n",
    "    - Use hsf_4 as test dataset."
   ]
  },
  {
   "cell_type": "code",
   "execution_count": 1,
   "metadata": {
    "collapsed": true
   },
   "outputs": [],
   "source": [
    "import numpy as np\n",
    "import pandas as pd\n",
    "#import cv2\n",
    "\n",
    "from scipy.misc import imresize, imrotate, imsave \n",
    "\n",
    "\n",
    "import matplotlib.pyplot as plt\n",
    "\n",
    "# display plots in this notebook\n",
    "%matplotlib inline\n",
    "\n",
    "# set display defaults\n",
    "plt.rcParams['figure.figsize'] = (10, 10)        # large images\n",
    "plt.rcParams['image.interpolation'] = 'nearest'  # don't interpolate: show square pixels\n",
    "plt.rcParams['image.cmap'] = 'gray'              # use grayscale output color heatmap\n"
   ]
  },
  {
   "cell_type": "code",
   "execution_count": 5,
   "metadata": {
    "collapsed": false
   },
   "outputs": [
    {
     "name": "stdout",
     "output_type": "stream",
     "text": [
      "{0: 'A', 1: 'B', 2: 'C', 3: 'D', 4: 'E', 5: 'F', 6: 'G', 7: 'H', 8: 'I', 9: 'J', 10: 'K', 11: 'L', 12: 'M', 13: 'N', 14: 'O', 15: 'P', 16: 'Q', 17: 'R', 18: 'S', 19: 'T', 20: 'U', 21: 'V', 22: 'W', 23: 'X', 24: 'Y', 25: 'Z'}\n"
     ]
    }
   ],
   "source": [
    "#Read NIST database\n",
    "path_NIST='/home/jorge/data/tesis/handwriting/databases/NIST/by_class/'\n",
    "\n",
    "char_list_lo = ['41','42','43','44','45','46','47','48','49','4a','4b','4c','4d',\n",
    "                '4e','4f','50','51','52','53','54','55','56','57','58','59','5a']\n",
    "\n",
    "decode_lo={}\n",
    "encode_lo={}\n",
    "for i , c in enumerate(char_list_lo):\n",
    "    char = str(unichr(int(c,16)))\n",
    "    decode_lo[i] = char\n",
    "    encode_lo[char] = i\n",
    "print decode_lo              "
   ]
  },
  {
   "cell_type": "code",
   "execution_count": 6,
   "metadata": {
    "collapsed": true
   },
   "outputs": [],
   "source": [
    "# Generator of list of files in a folder and subfolders\n",
    "import os\n",
    "import shutil\n",
    "import fnmatch\n",
    "\n",
    "def gen_find(filepat,top):\n",
    "    for path, dirlist, filelist in os.walk(top):\n",
    "        for name in fnmatch.filter(filelist,filepat):\n",
    "            yield os.path.join(path,name)"
   ]
  },
  {
   "cell_type": "code",
   "execution_count": 7,
   "metadata": {
    "collapsed": false
   },
   "outputs": [
    {
     "name": "stdout",
     "output_type": "stream",
     "text": [
      "(208363, 64, 64)\n",
      "(208363,)\n"
     ]
    }
   ],
   "source": [
    "\n",
    "#Read train dataset\n",
    "X_trn=[]\n",
    "y_trn=[]\n",
    "for char in char_list_lo:\n",
    "    letter = str(unichr(int(char,16)))\n",
    "    images_list = gen_find(\"*.png\", path_NIST+char+'/train_'+char) \n",
    "    for img_name in images_list:\n",
    "        img = plt.imread(img_name)\n",
    "        \n",
    "        #Transform\n",
    "        img = img[32:96,32:96,0]\n",
    "        \n",
    "        X_trn += [img]\n",
    "        y_trn += [encode_lo[letter]]\n",
    "\n",
    "X_trn = 1. - np.array(X_trn)\n",
    "y_trn = np.array(y_trn)\n",
    "        \n",
    "print(X_trn.shape)\n",
    "print(y_trn.shape)"
   ]
  },
  {
   "cell_type": "code",
   "execution_count": 8,
   "metadata": {
    "collapsed": false
   },
   "outputs": [
    {
     "name": "stdout",
     "output_type": "stream",
     "text": [
      "(11941, 64, 64)\n",
      "(11941,)\n"
     ]
    }
   ],
   "source": [
    "hsf='/hsf_4/'\n",
    "\n",
    "#Read test dataset\n",
    "X_tst=[]\n",
    "y_tst=[]\n",
    "for char in char_list_lo:\n",
    "    letter = str(unichr(int(char,16)))\n",
    "    images_list = gen_find(\"*.png\", path_NIST+char+hsf) \n",
    "    for img_name in images_list:\n",
    "        img = plt.imread(img_name)\n",
    "        \n",
    "        #Transform\n",
    "        img = img[32:96,32:96,0]\n",
    "        \n",
    "        X_tst += [img]\n",
    "        y_tst += [encode_lo[letter]]\n",
    "\n",
    "X_tst = 1. - np.array(X_tst)\n",
    "y_tst = np.array(y_tst)\n",
    "        \n",
    "print(X_tst.shape)\n",
    "print(y_tst.shape)"
   ]
  },
  {
   "cell_type": "code",
   "execution_count": 9,
   "metadata": {
    "collapsed": true
   },
   "outputs": [],
   "source": [
    "X_trn = X_trn.reshape((X_trn.shape[0],1,64,64))\n",
    "X_tst = X_tst.reshape((X_tst.shape[0],1,64,64))"
   ]
  },
  {
   "cell_type": "code",
   "execution_count": 10,
   "metadata": {
    "collapsed": false
   },
   "outputs": [
    {
     "name": "stderr",
     "output_type": "stream",
     "text": [
      "Using Theano backend.\n",
      "Using gpu device 0: GeForce GTX TITAN Black (CNMeM is disabled, cuDNN 5103)\n",
      "/usr/local/lib/python2.7/dist-packages/theano/sandbox/cuda/__init__.py:599: UserWarning: Your cuDNN version is more recent than the one Theano officially supports. If you see any problems, try updating Theano or downgrading cuDNN to version 5.\n",
      "  warnings.warn(warn)\n"
     ]
    },
    {
     "name": "stdout",
     "output_type": "stream",
     "text": [
      "Build model 1...\n"
     ]
    }
   ],
   "source": [
    "#\n",
    "#first model\n",
    "#\n",
    "\n",
    "from keras.models import Model\n",
    "from keras.layers import Input, Convolution2D, MaxPooling2D, Dense, Dropout, Flatten\n",
    "from keras.optimizers import SGD\n",
    "\n",
    "print('Build model 1...')\n",
    "input_images = Input(shape=(1, 64, 64))\n",
    "\n",
    "c11 = Convolution2D(64, 3, 3, border_mode='same', activation='relu')(input_images)\n",
    "c12 = Convolution2D(64, 3, 3, border_mode='same', activation='relu')(c11)\n",
    "c1_mp = MaxPooling2D((2, 2))(c12)\n",
    "\n",
    "c21 = Convolution2D(128, 3, 3, border_mode='same', activation='relu')(c1_mp)\n",
    "c22 = Convolution2D(128, 3, 3, border_mode='same', activation='relu')(c21)\n",
    "c2_mp = MaxPooling2D((2, 2))(c22)\n",
    "\n",
    "c31 = Convolution2D(256, 3, 3, border_mode='same', activation='relu')(c2_mp)\n",
    "c32 = Convolution2D(256, 3, 3, border_mode='same', activation='relu')(c31)\n",
    "c33 = Convolution2D(256, 3, 3, border_mode='same', activation='relu')(c32)\n",
    "c3_mp = MaxPooling2D((2, 2))(c33)\n",
    "\n",
    "conv_out = Flatten()(c3_mp)\n",
    "\n",
    "dense1 = Dense(1024, activation='relu')(conv_out)\n",
    "after_dp1 = Dropout(0.5)(dense1)\n",
    "\n",
    "dense2 = Dense(1024, activation='relu')(after_dp1)\n",
    "after_dp2 = Dropout(0.5)(dense2)\n",
    "\n",
    "output = Dense(26, activation='softmax')(after_dp2)"
   ]
  },
  {
   "cell_type": "code",
   "execution_count": null,
   "metadata": {
    "collapsed": true
   },
   "outputs": [],
   "source": [
    "#Data augmentation in keras\n",
    "from keras.preprocessing.image import ImageDataGenerator\n",
    "\n",
    "datagen = ImageDataGenerator(\n",
    "    rotation_range = 15,       # 15º of random rotation\n",
    "    width_shift_range = 0.20,  # 20% of random translation width\n",
    "    height_shift_range = 0.20, # 20% of random translation height\n",
    "    shear_range = 0.15,        # 5º of shear\n",
    "    zoom_range = 0.20)         # +- 20% of zoom \n",
    "\n"
   ]
  },
  {
   "cell_type": "code",
   "execution_count": null,
   "metadata": {
    "collapsed": false,
    "scrolled": false
   },
   "outputs": [
    {
     "name": "stdout",
     "output_type": "stream",
     "text": [
      "Epoch 1/20\n",
      "208363/208363 [==============================] - 711s - loss: 1.1297 - acc: 0.6709 - val_loss: 0.1758 - val_acc: 0.9487\n",
      "Epoch 2/20\n",
      "208363/208363 [==============================] - 716s - loss: 0.3352 - acc: 0.9045 - val_loss: 0.1235 - val_acc: 0.9631\n",
      "Epoch 3/20\n",
      "208363/208363 [==============================] - 717s - loss: 0.2700 - acc: 0.9237 - val_loss: 0.1146 - val_acc: 0.9659\n",
      "Epoch 4/20\n",
      "208363/208363 [==============================] - 716s - loss: 0.2377 - acc: 0.9331 - val_loss: 0.1074 - val_acc: 0.9686\n",
      "Epoch 5/20\n",
      "208363/208363 [==============================] - 717s - loss: 0.1696 - acc: 0.9529 - val_loss: 0.0893 - val_acc: 0.9735\n",
      "Epoch 17/20\n",
      "208363/208363 [==============================] - 716s - loss: 0.1688 - acc: 0.9530 - val_loss: 0.0845 - val_acc: 0.9749\n",
      "Epoch 18/20\n",
      "208363/208363 [==============================] - 717s - loss: 0.1657 - acc: 0.9538 - val_loss: 0.0863 - val_acc: 0.9751\n",
      "Epoch 19/20\n",
      "208363/208363 [==============================] - 716s - loss: 0.1633 - acc: 0.9546 - val_loss: 0.0861 - val_acc: 0.9744\n",
      "Epoch 20/20\n",
      "208363/208363 [==============================] - 717s - loss: 0.1625 - acc: 0.9548 - val_loss: 0.0856 - val_acc: 0.9735\n",
      "Done!\n"
     ]
    }
   ],
   "source": [
    "# Create the model\n",
    "model_l = Model(input=input_images, output=output)\n",
    "\n",
    "#Fit model  on batches with real-time data augmentation:\n",
    "sgd = SGD(lr=0.01, decay=0.001, momentum=0.9, nesterov=True)\n",
    "model_l.compile(loss='sparse_categorical_crossentropy', optimizer=sgd, metrics=['accuracy'])\n",
    "\n",
    "hist_l_1 = model_l.fit_generator(datagen.flow(X_trn, y_trn, batch_size=128),\n",
    "                    samples_per_epoch=len(X_trn), nb_epoch=20, \n",
    "                    validation_data=(X_tst, y_tst))\n",
    "\n",
    "print 'Done!'"
   ]
  },
  {
   "cell_type": "markdown",
   "metadata": {
    "collapsed": true
   },
   "source": [
    "# Accuracy for NIST database (2nd ed) upper case: 97,3%\n",
    "    - In the previous version with less iterations we obtained 96.9% (included in the paper)"
   ]
  },
  {
   "cell_type": "code",
   "execution_count": 13,
   "metadata": {
    "collapsed": false
   },
   "outputs": [
    {
     "data": {
      "text/plain": [
       "[<matplotlib.lines.Line2D at 0x7f4707282550>]"
      ]
     },
     "execution_count": 13,
     "metadata": {},
     "output_type": "execute_result"
    },
    {
     "data": {
      "image/png": "[encoded data removed]",
      "text/plain": [
       "<matplotlib.figure.Figure at 0x7f4717cf0c10>"
      ]
     },
     "metadata": {},
     "output_type": "display_data"
    }
   ],
   "source": [
    "plt.plot(hist_l_1.history['val_acc'])"
   ]
  },
  {
   "cell_type": "code",
   "execution_count": 14,
   "metadata": {
    "collapsed": false
   },
   "outputs": [],
   "source": [
    "#Save model\n",
    "path_models = '/home/jorge/data/tesis/handwriting/p01_read_character/'\n",
    "\n",
    "model_name = 'nist_uppercase_01'\n",
    "\n",
    "json_string = model_l.to_json()\n",
    "open(path_models + 'models/mdl_' + model_name + '.json', 'w').write(json_string)\n",
    "model_l.save_weights(path_models + 'models/w_' + model_name + '.h5', overwrite=True)\n",
    "\n",
    "# Save decode_target\n",
    "#import pickle\n",
    "#pickle.dump( decode_target_l, open( path_models + \"models/unipen_decode_target_lowercase.p\", \"wb\" ) )"
   ]
  },
  {
   "cell_type": "code",
   "execution_count": null,
   "metadata": {
    "collapsed": true
   },
   "outputs": [],
   "source": []
  }
 ],
 "metadata": {
  "kernelspec": {
   "display_name": "Python 2",
   "language": "python",
   "name": "python2"
  },
  "language_info": {
   "codemirror_mode": {
    "name": "ipython",
    "version": 2
   },
   "file_extension": ".py",
   "mimetype": "text/x-python",
   "name": "python",
   "nbconvert_exporter": "python",
   "pygments_lexer": "ipython2",
   "version": "2.7.6"
  }
 },
 "nbformat": 4,
 "nbformat_minor": 0
}
