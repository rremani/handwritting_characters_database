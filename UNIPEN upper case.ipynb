{
 "cells": [
  {
   "cell_type": "markdown",
   "metadata": {},
   "source": [
    "# Model uppercase characters and score NIST dataset\n",
    "    - Create a model only with uppercase charactes of the new character database. \n",
    "    - Evaluate it in a test partition\n",
    "    - Use the previous trained model to score the TICH test database (database only of uppercase characters)\n",
    "    - Use the previous trained model to score the uppercase characters of NIST test database"
   ]
  },
  {
   "cell_type": "code",
   "execution_count": 1,
   "metadata": {
    "collapsed": true
   },
   "outputs": [],
   "source": [
    "path = '/home/jorge/data/tesis/handwriting/databases/unipen/'\n",
    "\n",
    "import numpy as np\n",
    "import pandas as pd\n",
    "#import cv2\n",
    "\n",
    "from scipy.misc import imresize, imrotate, imsave \n",
    "\n",
    "\n",
    "import matplotlib.pyplot as plt\n",
    "\n",
    "# display plots in this notebook\n",
    "%matplotlib inline\n",
    "\n",
    "# set display defaults\n",
    "plt.rcParams['figure.figsize'] = (10, 10)        # large images\n",
    "plt.rcParams['image.interpolation'] = 'nearest'  # don't interpolate: show square pixels\n",
    "plt.rcParams['image.cmap'] = 'gray'              # use grayscale output color heatmap\n"
   ]
  },
  {
   "cell_type": "code",
   "execution_count": 2,
   "metadata": {
    "collapsed": true
   },
   "outputs": [],
   "source": [
    "#\n",
    "#Select the subset of characters\n",
    "#\n",
    "from sklearn.utils import shuffle\n",
    "from sklearn.cross_validation import train_test_split\n",
    "from sklearn import preprocessing\n",
    "\n",
    "def prepare_data_char_subset(X, y, char_select):\n",
    "    '''\n",
    "    Definition: Create train test data to model it\n",
    "        - Select cases\n",
    "        - shuffle\n",
    "        - separate train test\n",
    "        - encode target to dummy vars\n",
    "    Parameters:\n",
    "        X: images[n_images, x_size, y_size]\n",
    "        y: characters[n_images, 1]\n",
    "        char_select: list of characters selected\n",
    "        augmentation_fuction\n",
    "    \n",
    "    usage:\n",
    "        prepare_data_char_subset(X, y, set(['1','0']), augmentation_fuction = lambda: augmentate01(param1, param2=p2) )\n",
    "        \n",
    "    return:\n",
    "        X_train, y_train, X_test, y_test, labels_dictionary\n",
    "    '''\n",
    "    #Select cases\n",
    "    X_select = []\n",
    "    y_select = []\n",
    "    for row in xrange(X.shape[0]):\n",
    "        if y[row] in set(char_select):\n",
    "            X_select += [X[row,:,:]]\n",
    "            y_select += y[row]\n",
    "    X_select = np.array(X_select, dtype = np.float16)\n",
    "    y_select = np.array(y_select)\n",
    "    print 'Shape of selected cases:', X_select.shape, y_select.shape\n",
    "    \n",
    "    \n",
    "    #Shuffle\n",
    "    X_select, y_select = shuffle(X_select, y_select, random_state=0)\n",
    "    \n",
    "    #Reescale\n",
    "    X_select = X_select/255.\n",
    "    \n",
    "    #Recode target\n",
    "    decode_target={}\n",
    "    encode_target={}\n",
    "    for i,c in enumerate(char_select):\n",
    "        decode_target[i] = c \n",
    "        encode_target[c] = i\n",
    "    y_select = np.array([encode_target[y] for y in y_select])\n",
    "    \n",
    "\n",
    "    #Separate train test\n",
    "    X_train, X_test, y_train_ini, y_test_ini = train_test_split(X_select, y_select, test_size=0.20, random_state=42)\n",
    "    X_train = np.reshape(X_train,  (X_train.shape[0],1,X_train.shape[1],X_train.shape[2]))\n",
    "    X_test = np.reshape(X_test,  (X_test.shape[0],1,X_test.shape[1],X_test.shape[2]))\n",
    "    \n",
    "    print 'Train shape: ',X_train.shape, y_train_ini.shape\n",
    "    print 'Test shape: ',X_test.shape, y_test_ini.shape\n",
    "    print 'Num classes: ', len(set(y_train_ini))\n",
    "    print 'Classes:', set(y_train_ini)\n",
    "    \n",
    "    return X_train, y_train_ini, X_test, y_test_ini, decode_target\n"
   ]
  },
  {
   "cell_type": "code",
   "execution_count": 3,
   "metadata": {
    "collapsed": false
   },
   "outputs": [
    {
     "name": "stdout",
     "output_type": "stream",
     "text": [
      "((46102, 64, 64), (46102,))\n",
      "Shape of selected cases: (16257, 64, 64) (16257,)\n",
      "Train shape:  (13005, 1, 64, 64) (13005,)\n",
      "Test shape:  (3252, 1, 64, 64) (3252,)\n",
      "Num classes:  26\n",
      "Classes: set([0, 1, 2, 3, 4, 5, 6, 7, 8, 9, 10, 11, 12, 13, 14, 15, 16, 17, 18, 19, 20, 21, 22, 23, 24, 25])\n",
      "((13005, 1, 64, 64), (3252, 1, 64, 64))\n",
      "Shape of selected cases: (29845, 64, 64) (29845,)\n",
      "Train shape:  (23876, 1, 64, 64) (23876,)\n",
      "Test shape:  (5969, 1, 64, 64) (5969,)\n",
      "Num classes:  26\n",
      "Classes: set([0, 1, 2, 3, 4, 5, 6, 7, 8, 9, 10, 11, 12, 13, 14, 15, 16, 17, 18, 19, 20, 21, 22, 23, 24, 25])\n",
      "((23876, 1, 64, 64), (5969, 1, 64, 64))\n"
     ]
    }
   ],
   "source": [
    "#Load data from hdf5\n",
    "import h5py\n",
    "\n",
    "hdf5_f = h5py.File(path + \"characters_base_64x64.hdf5\", mode='r')\n",
    "\n",
    "X = hdf5_f[\"X_curated_chars\"]\n",
    "y = hdf5_f[\"y_curated_chars\"]\n",
    "y_chars = np.array(y)\n",
    "print(X.shape, y.shape)\n",
    "\n",
    "\n",
    "char_select = ['A', 'B', 'C', 'D', 'E', 'F', 'G', 'H', 'I', 'J', 'K', 'L',\n",
    "               'M', 'N', 'O', 'P', 'Q', 'R', 'S', 'T', 'U', 'V', 'W', 'X', 'Y', 'Z']\n",
    "\n",
    "X_train_u, y_train_u, X_test_u, y_test_u, decode_target_u = prepare_data_char_subset(X, y, char_select)\n",
    "print(X_train_u.shape, X_test_u.shape)\n",
    "\n",
    "char_select = ['a', 'b', 'c', 'd', 'e', 'f', 'g', 'h', 'i', 'j', 'k', 'l',\n",
    "               'm', 'n', 'o', 'p', 'q', 'r', 's', 't', 'u', 'v', 'w', 'x', 'y', 'z']\n",
    "\n",
    "X_train_l, y_train_l, X_test_l, y_test_l, decode_target_l = prepare_data_char_subset(X, y, char_select)\n",
    "print(X_train_l.shape, X_test_l.shape)\n",
    "\n",
    "hdf5_f.close()"
   ]
  },
  {
   "cell_type": "code",
   "execution_count": 4,
   "metadata": {
    "collapsed": false
   },
   "outputs": [
    {
     "name": "stdout",
     "output_type": "stream",
     "text": [
      "{0: 'A', 1: 'B', 2: 'C', 3: 'D', 4: 'E', 5: 'F', 6: 'G', 7: 'H', 8: 'I', 9: 'J', 10: 'K', 11: 'L', 12: 'M', 13: 'N', 14: 'O', 15: 'P', 16: 'Q', 17: 'R', 18: 'S', 19: 'T', 20: 'U', 21: 'V', 22: 'W', 23: 'X', 24: 'Y', 25: 'Z'}\n",
      "[[ 0.          0.          0.          0.          0.          0.          0.\n",
      "   0.          0.          0.          0.          0.          0.          0.\n",
      "   0.          0.          0.          0.          0.          0.          0.\n",
      "   0.          0.          0.          0.          0.          0.          0.\n",
      "   0.          0.          0.          0.          0.          0.\n",
      "   0.38818359  1.          1.          0.01960754  0.          0.          0.\n",
      "   0.          0.          0.          0.          0.          0.          0.\n",
      "   0.          0.          0.          0.          0.          0.          0.\n",
      "   0.          0.          0.          0.          0.          0.          0.\n",
      "   0.          0.        ]]\n",
      "[ 2  7 10 20 15]\n"
     ]
    }
   ],
   "source": [
    "print(decode_target_u)\n",
    "print(X_train_u[0,:,32,:])\n",
    "print(y_test_u[:5])"
   ]
  },
  {
   "cell_type": "markdown",
   "metadata": {
    "collapsed": false
   },
   "source": [
    "## Uppercase model\n"
   ]
  },
  {
   "cell_type": "code",
   "execution_count": 5,
   "metadata": {
    "collapsed": false
   },
   "outputs": [
    {
     "name": "stderr",
     "output_type": "stream",
     "text": [
      "Using Theano backend.\n",
      "Using gpu device 0: GeForce GTX TITAN Black (CNMeM is disabled, cuDNN 5103)\n",
      "/usr/local/lib/python2.7/dist-packages/theano/sandbox/cuda/__init__.py:599: UserWarning: Your cuDNN version is more recent than the one Theano officially supports. If you see any problems, try updating Theano or downgrading cuDNN to version 5.\n",
      "  warnings.warn(warn)\n"
     ]
    },
    {
     "name": "stdout",
     "output_type": "stream",
     "text": [
      "Build model 1...\n"
     ]
    }
   ],
   "source": [
    "#\n",
    "# Uppercase model\n",
    "#\n",
    "\n",
    "from keras.models import Model\n",
    "from keras.layers import Input, Convolution2D, MaxPooling2D, Dense, Dropout, Flatten\n",
    "from keras.optimizers import SGD\n",
    "\n",
    "print('Build model 1...')\n",
    "input_images = Input(shape=(1, 64, 64))\n",
    "\n",
    "c11 = Convolution2D(64, 3, 3, border_mode='same', activation='relu')(input_images)\n",
    "c12 = Convolution2D(64, 3, 3, border_mode='same', activation='relu')(c11)\n",
    "c1_mp = MaxPooling2D((2, 2))(c12)\n",
    "\n",
    "c21 = Convolution2D(128, 3, 3, border_mode='same', activation='relu')(c1_mp)\n",
    "c22 = Convolution2D(128, 3, 3, border_mode='same', activation='relu')(c21)\n",
    "c2_mp = MaxPooling2D((2, 2))(c22)\n",
    "\n",
    "c31 = Convolution2D(256, 3, 3, border_mode='same', activation='relu')(c2_mp)\n",
    "c32 = Convolution2D(256, 3, 3, border_mode='same', activation='relu')(c31)\n",
    "c33 = Convolution2D(256, 3, 3, border_mode='same', activation='relu')(c32)\n",
    "c3_mp = MaxPooling2D((2, 2))(c33)\n",
    "\n",
    "conv_out = Flatten()(c3_mp)\n",
    "\n",
    "dense1 = Dense(1024, activation='relu')(conv_out)\n",
    "after_dp1 = Dropout(0.5)(dense1)\n",
    "\n",
    "dense2 = Dense(1024, activation='relu')(after_dp1)\n",
    "after_dp2 = Dropout(0.5)(dense2)\n",
    "\n",
    "output = Dense(26, activation='softmax')(after_dp2)"
   ]
  },
  {
   "cell_type": "code",
   "execution_count": 6,
   "metadata": {
    "collapsed": true
   },
   "outputs": [],
   "source": [
    "#Data augmentation in keras\n",
    "from keras.preprocessing.image import ImageDataGenerator\n",
    "\n",
    "datagen = ImageDataGenerator(\n",
    "    rotation_range = 15,       # 15º of random rotation\n",
    "    width_shift_range = 0.20,  # 20% of random translation width\n",
    "    height_shift_range = 0.20, # 20% of random translation height\n",
    "    shear_range = 0.15,        # 5º of shear\n",
    "    zoom_range = 0.20)         # +- 20% of zoom \n",
    "\n"
   ]
  },
  {
   "cell_type": "code",
   "execution_count": 7,
   "metadata": {
    "collapsed": false,
    "scrolled": false
   },
   "outputs": [
    {
     "name": "stdout",
     "output_type": "stream",
     "text": [
      "Epoch 1/100\n",
      "13005/13005 [==============================] - 42s - loss: 3.2193 - acc: 0.0734 - val_loss: 3.1313 - val_acc: 0.0781\n",
      "Epoch 2/100\n",
      "13005/13005 [==============================] - 47s - loss: 2.9292 - acc: 0.1614 - val_loss: 1.8011 - val_acc: 0.5391\n",
      "Epoch 3/100\n",
      "13005/13005 [==============================] - 47s - loss: 2.1690 - acc: 0.3561 - val_loss: 0.7979 - val_acc: 0.7808\n",
      "Epoch 4/100\n",
      "13005/13005 [==============================] - 47s - loss: 1.4647 - acc: 0.5491 - val_loss: 0.5146 - val_acc: 0.8604\n",
      "Epoch 5/100\n",
      "13005/13005 [==============================] - 47s - loss: 1.1181 - acc: 0.6577 - val_loss: 0.3541 - val_acc: 0.9182\n",
      "Epoch 6/100\n",
      "13005/13005 [==============================] - 47s - loss: 0.9203 - acc: 0.7171 - val_loss: 0.2613 - val_acc: 0.9311\n",
      "Epoch 7/100\n",
      "13005/13005 [==============================] - 47s - loss: 0.7777 - acc: 0.7639 - val_loss: 0.2218 - val_acc: 0.9413\n",
      "Epoch 8/100\n",
      "13005/13005 [==============================] - 47s - loss: 0.7259 - acc: 0.7817 - val_loss: 0.2100 - val_acc: 0.9419\n",
      "Epoch 9/100\n",
      "13005/13005 [==============================] - 47s - loss: 0.6575 - acc: 0.7973 - val_loss: 0.1841 - val_acc: 0.9462\n",
      "Epoch 10/100\n",
      "13005/13005 [==============================] - 47s - loss: 0.6030 - acc: 0.8141 - val_loss: 0.1619 - val_acc: 0.9523\n",
      "Epoch 11/100\n",
      "13005/13005 [==============================] - 47s - loss: 0.5712 - acc: 0.8275 - val_loss: 0.1680 - val_acc: 0.9551\n",
      "Epoch 12/100\n",
      "13005/13005 [==============================] - 47s - loss: 0.5593 - acc: 0.8298 - val_loss: 0.1538 - val_acc: 0.9566\n",
      "Epoch 13/100\n",
      "13005/13005 [==============================] - 47s - loss: 0.5260 - acc: 0.8398 - val_loss: 0.1347 - val_acc: 0.9600\n",
      "Epoch 14/100\n",
      "13005/13005 [==============================] - 47s - loss: 0.4977 - acc: 0.8507 - val_loss: 0.1348 - val_acc: 0.9606\n",
      "Epoch 15/100\n",
      "13005/13005 [==============================] - 47s - loss: 0.4825 - acc: 0.8543 - val_loss: 0.1248 - val_acc: 0.9600\n",
      "Epoch 16/100\n",
      "13005/13005 [==============================] - 47s - loss: 0.4522 - acc: 0.8633 - val_loss: 0.1197 - val_acc: 0.9643\n",
      "Epoch 17/100\n",
      "13005/13005 [==============================] - 47s - loss: 0.4450 - acc: 0.8617 - val_loss: 0.1171 - val_acc: 0.9677\n",
      "Epoch 18/100\n",
      "13005/13005 [==============================] - 47s - loss: 0.4411 - acc: 0.8640 - val_loss: 0.1169 - val_acc: 0.9649\n",
      "Epoch 19/100\n",
      "13005/13005 [==============================] - 47s - loss: 0.4198 - acc: 0.8740 - val_loss: 0.1088 - val_acc: 0.9683\n",
      "Epoch 20/100\n",
      "13005/13005 [==============================] - 47s - loss: 0.4054 - acc: 0.8743 - val_loss: 0.1082 - val_acc: 0.9680\n",
      "Epoch 21/100\n",
      "13005/13005 [==============================] - 47s - loss: 0.4103 - acc: 0.8752 - val_loss: 0.1065 - val_acc: 0.9692\n",
      "Epoch 22/100\n",
      "13005/13005 [==============================] - 47s - loss: 0.3790 - acc: 0.8823 - val_loss: 0.0986 - val_acc: 0.9726\n",
      "Epoch 23/100\n",
      "13005/13005 [==============================] - 47s - loss: 0.3778 - acc: 0.8866 - val_loss: 0.0967 - val_acc: 0.9720\n",
      "Epoch 24/100\n",
      "13005/13005 [==============================] - 47s - loss: 0.3779 - acc: 0.8871 - val_loss: 0.1003 - val_acc: 0.9708\n",
      "Epoch 25/100\n",
      "13005/13005 [==============================] - 47s - loss: 0.3615 - acc: 0.8872 - val_loss: 0.0947 - val_acc: 0.9726\n",
      "Epoch 26/100\n",
      "13005/13005 [==============================] - 47s - loss: 0.3416 - acc: 0.8974 - val_loss: 0.0958 - val_acc: 0.9705\n",
      "Epoch 27/100\n",
      "13005/13005 [==============================] - 47s - loss: 0.3454 - acc: 0.8922 - val_loss: 0.0865 - val_acc: 0.9717\n",
      "Epoch 28/100\n",
      "13005/13005 [==============================] - 47s - loss: 0.3572 - acc: 0.8894 - val_loss: 0.0936 - val_acc: 0.9723\n",
      "Epoch 29/100\n",
      "13005/13005 [==============================] - 47s - loss: 0.3463 - acc: 0.8943 - val_loss: 0.0879 - val_acc: 0.9742\n",
      "Epoch 30/100\n",
      "13005/13005 [==============================] - 47s - loss: 0.3392 - acc: 0.8959 - val_loss: 0.0832 - val_acc: 0.9732\n",
      "Epoch 31/100\n",
      "13005/13005 [==============================] - 47s - loss: 0.3455 - acc: 0.8952 - val_loss: 0.0857 - val_acc: 0.9754\n",
      "Epoch 32/100\n",
      "13005/13005 [==============================] - 47s - loss: 0.3332 - acc: 0.8974 - val_loss: 0.0869 - val_acc: 0.9748\n",
      "Epoch 33/100\n",
      "13005/13005 [==============================] - 47s - loss: 0.3269 - acc: 0.9007 - val_loss: 0.0857 - val_acc: 0.9769\n",
      "Epoch 34/100\n",
      "13005/13005 [==============================] - 47s - loss: 0.3256 - acc: 0.8995 - val_loss: 0.0850 - val_acc: 0.9757\n",
      "Epoch 35/100\n",
      "13005/13005 [==============================] - 47s - loss: 0.3157 - acc: 0.9042 - val_loss: 0.0817 - val_acc: 0.9782\n",
      "Epoch 36/100\n",
      "13005/13005 [==============================] - 47s - loss: 0.3124 - acc: 0.9062 - val_loss: 0.0838 - val_acc: 0.9751\n",
      "Epoch 37/100\n",
      "13005/13005 [==============================] - 47s - loss: 0.2992 - acc: 0.9062 - val_loss: 0.0892 - val_acc: 0.9736\n",
      "Epoch 38/100\n",
      "13005/13005 [==============================] - 47s - loss: 0.3112 - acc: 0.9056 - val_loss: 0.0803 - val_acc: 0.9772\n",
      "Epoch 39/100\n",
      "13005/13005 [==============================] - 47s - loss: 0.3043 - acc: 0.9070 - val_loss: 0.0817 - val_acc: 0.9763\n",
      "Epoch 40/100\n",
      "13005/13005 [==============================] - 47s - loss: 0.2943 - acc: 0.9120 - val_loss: 0.0819 - val_acc: 0.9763\n",
      "Epoch 41/100\n",
      "13005/13005 [==============================] - 47s - loss: 0.2923 - acc: 0.9079 - val_loss: 0.0857 - val_acc: 0.9745\n",
      "Epoch 42/100\n",
      "13005/13005 [==============================] - 47s - loss: 0.2938 - acc: 0.9125 - val_loss: 0.0819 - val_acc: 0.9751\n",
      "Epoch 43/100\n",
      "13005/13005 [==============================] - 47s - loss: 0.2992 - acc: 0.9095 - val_loss: 0.0718 - val_acc: 0.9803\n",
      "Epoch 44/100\n",
      "13005/13005 [==============================] - 47s - loss: 0.2870 - acc: 0.9132 - val_loss: 0.0804 - val_acc: 0.9763\n",
      "Epoch 45/100\n",
      "13005/13005 [==============================] - 47s - loss: 0.2865 - acc: 0.9137 - val_loss: 0.0802 - val_acc: 0.9763\n",
      "Epoch 46/100\n",
      "13005/13005 [==============================] - 47s - loss: 0.2844 - acc: 0.9118 - val_loss: 0.0727 - val_acc: 0.9800\n",
      "Epoch 47/100\n",
      "13005/13005 [==============================] - 47s - loss: 0.2786 - acc: 0.9157 - val_loss: 0.0762 - val_acc: 0.9779\n",
      "Epoch 48/100\n",
      "13005/13005 [==============================] - 47s - loss: 0.2635 - acc: 0.9183 - val_loss: 0.0760 - val_acc: 0.9776\n",
      "Epoch 49/100\n",
      "13005/13005 [==============================] - 47s - loss: 0.2719 - acc: 0.9182 - val_loss: 0.0722 - val_acc: 0.9782\n",
      "Epoch 50/100\n",
      "13005/13005 [==============================] - 47s - loss: 0.2809 - acc: 0.9140 - val_loss: 0.0796 - val_acc: 0.9776\n",
      "Epoch 51/100\n",
      "13005/13005 [==============================] - 47s - loss: 0.2738 - acc: 0.9147 - val_loss: 0.0710 - val_acc: 0.9772\n",
      "Epoch 52/100\n",
      "13005/13005 [==============================] - 47s - loss: 0.2703 - acc: 0.9171 - val_loss: 0.0748 - val_acc: 0.9782\n",
      "Epoch 53/100\n",
      "13005/13005 [==============================] - 47s - loss: 0.2661 - acc: 0.9187 - val_loss: 0.0755 - val_acc: 0.9776\n",
      "Epoch 54/100\n",
      "13005/13005 [==============================] - 47s - loss: 0.2692 - acc: 0.9183 - val_loss: 0.0735 - val_acc: 0.9776\n",
      "Epoch 55/100\n",
      "13005/13005 [==============================] - 47s - loss: 0.2647 - acc: 0.9206 - val_loss: 0.0692 - val_acc: 0.9788\n",
      "Epoch 56/100\n",
      "13005/13005 [==============================] - 47s - loss: 0.2610 - acc: 0.9200 - val_loss: 0.0718 - val_acc: 0.9788\n",
      "Epoch 57/100\n",
      "13005/13005 [==============================] - 47s - loss: 0.2569 - acc: 0.9222 - val_loss: 0.0694 - val_acc: 0.9800\n",
      "Epoch 58/100\n",
      "13005/13005 [==============================] - 47s - loss: 0.2476 - acc: 0.9245 - val_loss: 0.0712 - val_acc: 0.9797\n",
      "Epoch 59/100\n",
      "13005/13005 [==============================] - 47s - loss: 0.2559 - acc: 0.9216 - val_loss: 0.0696 - val_acc: 0.9809\n",
      "Epoch 60/100\n",
      "13005/13005 [==============================] - 47s - loss: 0.2492 - acc: 0.9221 - val_loss: 0.0672 - val_acc: 0.9822\n",
      "Epoch 61/100\n",
      "13005/13005 [==============================] - 47s - loss: 0.2535 - acc: 0.9235 - val_loss: 0.0703 - val_acc: 0.9791\n",
      "Epoch 62/100\n",
      "13005/13005 [==============================] - 47s - loss: 0.2533 - acc: 0.9233 - val_loss: 0.0660 - val_acc: 0.9785\n",
      "Epoch 63/100\n",
      "13005/13005 [==============================] - 47s - loss: 0.2494 - acc: 0.9227 - val_loss: 0.0670 - val_acc: 0.9809\n",
      "Epoch 64/100\n",
      "13005/13005 [==============================] - 47s - loss: 0.2415 - acc: 0.9243 - val_loss: 0.0725 - val_acc: 0.9794\n",
      "Epoch 65/100\n",
      "13005/13005 [==============================] - 47s - loss: 0.2489 - acc: 0.9209 - val_loss: 0.0691 - val_acc: 0.9812\n",
      "Epoch 66/100\n",
      "13005/13005 [==============================] - 47s - loss: 0.2516 - acc: 0.9232 - val_loss: 0.0725 - val_acc: 0.9791\n",
      "Epoch 67/100\n",
      "13005/13005 [==============================] - 47s - loss: 0.2374 - acc: 0.9261 - val_loss: 0.0699 - val_acc: 0.9809\n",
      "Epoch 68/100\n",
      "13005/13005 [==============================] - 47s - loss: 0.2375 - acc: 0.9262 - val_loss: 0.0658 - val_acc: 0.9825\n",
      "Epoch 69/100\n",
      "13005/13005 [==============================] - 47s - loss: 0.2404 - acc: 0.9243 - val_loss: 0.0672 - val_acc: 0.9803\n",
      "Epoch 70/100\n",
      "13005/13005 [==============================] - 47s - loss: 0.2434 - acc: 0.9239 - val_loss: 0.0648 - val_acc: 0.9800\n",
      "Epoch 71/100\n",
      "13005/13005 [==============================] - 47s - loss: 0.2270 - acc: 0.9265 - val_loss: 0.0673 - val_acc: 0.9782\n",
      "Epoch 72/100\n",
      "13005/13005 [==============================] - 47s - loss: 0.2373 - acc: 0.9264 - val_loss: 0.0654 - val_acc: 0.9812\n",
      "Epoch 73/100\n",
      "13005/13005 [==============================] - 47s - loss: 0.2457 - acc: 0.9243 - val_loss: 0.0652 - val_acc: 0.9812\n",
      "Epoch 74/100\n",
      "13005/13005 [==============================] - 47s - loss: 0.2304 - acc: 0.9290 - val_loss: 0.0639 - val_acc: 0.9825\n",
      "Epoch 75/100\n",
      "13005/13005 [==============================] - 47s - loss: 0.2419 - acc: 0.9252 - val_loss: 0.0680 - val_acc: 0.9822\n",
      "Epoch 76/100\n",
      "13005/13005 [==============================] - 47s - loss: 0.2329 - acc: 0.9300 - val_loss: 0.0651 - val_acc: 0.9815\n",
      "Epoch 77/100\n",
      "13005/13005 [==============================] - 47s - loss: 0.2408 - acc: 0.9232 - val_loss: 0.0647 - val_acc: 0.9809\n",
      "Epoch 78/100\n",
      "13005/13005 [==============================] - 47s - loss: 0.2320 - acc: 0.9271 - val_loss: 0.0704 - val_acc: 0.9806\n",
      "Epoch 79/100\n",
      "13005/13005 [==============================] - 47s - loss: 0.2423 - acc: 0.9266 - val_loss: 0.0639 - val_acc: 0.9794\n",
      "Epoch 80/100\n",
      "13005/13005 [==============================] - 47s - loss: 0.2292 - acc: 0.9309 - val_loss: 0.0651 - val_acc: 0.9825\n",
      "Epoch 81/100\n",
      "13005/13005 [==============================] - 47s - loss: 0.2297 - acc: 0.9282 - val_loss: 0.0673 - val_acc: 0.9800\n",
      "Epoch 82/100\n",
      "13005/13005 [==============================] - 47s - loss: 0.2230 - acc: 0.9347 - val_loss: 0.0653 - val_acc: 0.9819\n",
      "Epoch 83/100\n",
      "13005/13005 [==============================] - 47s - loss: 0.2255 - acc: 0.9300 - val_loss: 0.0683 - val_acc: 0.9822\n",
      "Epoch 84/100\n",
      "13005/13005 [==============================] - 47s - loss: 0.2251 - acc: 0.9292 - val_loss: 0.0636 - val_acc: 0.9834\n",
      "Epoch 85/100\n",
      "13005/13005 [==============================] - 47s - loss: 0.2258 - acc: 0.9303 - val_loss: 0.0620 - val_acc: 0.9809\n",
      "Epoch 86/100\n",
      "13005/13005 [==============================] - 47s - loss: 0.2358 - acc: 0.9253 - val_loss: 0.0636 - val_acc: 0.9825\n",
      "Epoch 87/100\n",
      "13005/13005 [==============================] - 47s - loss: 0.2252 - acc: 0.9306 - val_loss: 0.0652 - val_acc: 0.9825\n",
      "Epoch 88/100\n",
      "13005/13005 [==============================] - 47s - loss: 0.2168 - acc: 0.9335 - val_loss: 0.0625 - val_acc: 0.9809\n",
      "Epoch 89/100\n",
      "13005/13005 [==============================] - 47s - loss: 0.2118 - acc: 0.9315 - val_loss: 0.0658 - val_acc: 0.9822\n",
      "Epoch 90/100\n",
      "13005/13005 [==============================] - 47s - loss: 0.2191 - acc: 0.9339 - val_loss: 0.0603 - val_acc: 0.9819\n",
      "Epoch 91/100\n",
      "13005/13005 [==============================] - 47s - loss: 0.2262 - acc: 0.9298 - val_loss: 0.0616 - val_acc: 0.9819\n",
      "Epoch 92/100\n",
      "13005/13005 [==============================] - 47s - loss: 0.2198 - acc: 0.9325 - val_loss: 0.0653 - val_acc: 0.9834\n",
      "Epoch 93/100\n",
      "13005/13005 [==============================] - 47s - loss: 0.2129 - acc: 0.9339 - val_loss: 0.0621 - val_acc: 0.9828\n",
      "Epoch 94/100\n",
      "13005/13005 [==============================] - 47s - loss: 0.2215 - acc: 0.9283 - val_loss: 0.0669 - val_acc: 0.9812\n",
      "Epoch 95/100\n",
      "13005/13005 [==============================] - 47s - loss: 0.2175 - acc: 0.9339 - val_loss: 0.0648 - val_acc: 0.9819\n",
      "Epoch 96/100\n",
      "13005/13005 [==============================] - 47s - loss: 0.2139 - acc: 0.9326 - val_loss: 0.0628 - val_acc: 0.9825\n",
      "Epoch 97/100\n",
      "13005/13005 [==============================] - 47s - loss: 0.2232 - acc: 0.9292 - val_loss: 0.0628 - val_acc: 0.9825\n",
      "Epoch 98/100\n",
      "13005/13005 [==============================] - 47s - loss: 0.2103 - acc: 0.9359 - val_loss: 0.0612 - val_acc: 0.9828\n",
      "Epoch 99/100\n",
      "13005/13005 [==============================] - 47s - loss: 0.2131 - acc: 0.9341 - val_loss: 0.0623 - val_acc: 0.9822\n",
      "Epoch 100/100\n",
      "13005/13005 [==============================] - 47s - loss: 0.2190 - acc: 0.9320 - val_loss: 0.0603 - val_acc: 0.9837\n",
      "Done!\n"
     ]
    }
   ],
   "source": [
    "# Create the model\n",
    "model_u = Model(input=input_images, output=output)\n",
    "\n",
    "#Fit model  on batches with real-time data augmentation:\n",
    "sgd = SGD(lr=0.01, decay=0.001, momentum=0.9, nesterov=True)\n",
    "model_u.compile(loss='sparse_categorical_crossentropy', optimizer=sgd, metrics=['accuracy'])\n",
    "\n",
    "hist_u_1 = model_u.fit_generator(datagen.flow(X_train_u, y_train_u, batch_size=128),\n",
    "                    samples_per_epoch=len(X_train_u), nb_epoch=100, \n",
    "                    validation_data=(X_test_u, y_test_u))\n",
    "\n",
    "print 'Done!'"
   ]
  },
  {
   "cell_type": "markdown",
   "metadata": {},
   "source": [
    "# Accuracy for UNIPEN upper case: 98.4%"
   ]
  },
  {
   "cell_type": "code",
   "execution_count": 8,
   "metadata": {
    "collapsed": false
   },
   "outputs": [
    {
     "data": {
      "text/plain": [
       "[<matplotlib.lines.Line2D at 0x7f2936dc3c50>]"
      ]
     },
     "execution_count": 8,
     "metadata": {},
     "output_type": "execute_result"
    },
    {
     "data": {
      "image/png": "[encoded data removed]",
      "text/plain": [
       "<matplotlib.figure.Figure at 0x7f295ee91bd0>"
      ]
     },
     "metadata": {},
     "output_type": "display_data"
    }
   ],
   "source": [
    "plt.plot(hist_u_1.history['val_acc'])"
   ]
  },
  {
   "cell_type": "code",
   "execution_count": 51,
   "metadata": {
    "collapsed": false
   },
   "outputs": [],
   "source": [
    "#Save model\n",
    "path_models = '/home/jorge/data/tesis/handwriting/p01_read_character/'\n",
    "\n",
    "model_name = 'unipen_uppercase_01'\n",
    "\n",
    "json_string = model_u.to_json()\n",
    "open(path_models + 'models/mdl_' + model_name + '.json', 'w').write(json_string)\n",
    "model_u.save_weights(path_models + 'models/w_' + model_name + '.h5', overwrite=True)\n",
    "\n",
    "# Save decode_target\n",
    "import pickle\n",
    "pickle.dump( decode_target_u, open( path_models + \"models/unipen_decode_target_uppercase.p\", \"wb\" ) )"
   ]
  },
  {
   "cell_type": "code",
   "execution_count": null,
   "metadata": {
    "collapsed": true
   },
   "outputs": [],
   "source": []
  },
  {
   "cell_type": "markdown",
   "metadata": {
    "collapsed": true
   },
   "source": [
    "## Use the model trained to score the TICH dataset"
   ]
  },
  {
   "cell_type": "code",
   "execution_count": 52,
   "metadata": {
    "collapsed": true
   },
   "outputs": [],
   "source": [
    "#Load model\n",
    "from keras.models import model_from_json\n",
    "\n",
    "model_name = 'unipen_uppercase_01'\n",
    "\n",
    "model_u = model_from_json(open(path_models + 'models/mdl_' + model_name + '.json').read())\n",
    "model_u.load_weights(path_models + 'models/w_' + model_name + '.h5')\n",
    "\n",
    "# Load the dictionary back from the pickle file.\n",
    "import pickle\n",
    "decode_target = pickle.load( open(path_models + \"models/unipen_decode_target_uppercase.p\", \"rb\" ) )\n",
    "    \n",
    "\n"
   ]
  },
  {
   "cell_type": "code",
   "execution_count": 10,
   "metadata": {
    "collapsed": true
   },
   "outputs": [],
   "source": [
    "#Read TICH\n",
    "path_TICH = '/home/jorge/data/tesis/handwriting/databases/TICH/digits/'\n",
    "\n",
    "labels = pd.read_csv(path_TICH + 'labels.txt', header=None, names=['target'])\n",
    "train  = pd.read_csv(path_TICH + 'train.txt', header=None, delimiter=' ', names=['file','target_code'])\n",
    "valid  = pd.read_csv(path_TICH + 'valid.txt', header=None, delimiter=' ', names=['file','target_code'])"
   ]
  },
  {
   "cell_type": "code",
   "execution_count": 11,
   "metadata": {
    "collapsed": true
   },
   "outputs": [],
   "source": [
    "# Select uppercase, target code: >=10\n",
    "# Create X_train(image 64x64), Y_train(sparse target 26 ), X_valid y_valid\n",
    "# Not X. Put it -->  Recode target t = tc-10 if tc<33 else t=tc-9\n",
    "\n",
    "def exctrac_TICH(ds):\n",
    "    X_TICH = []\n",
    "    y_TICH = []\n",
    "    for i,row in train[:].iterrows():\n",
    "        if row.target_code>=10:\n",
    "            img_name = row.file.split('/')[-1]\n",
    "            img = plt.imread(path_TICH + 'imgs/'+img_name)\n",
    "            X_TICH += [img]\n",
    "            y_TICH += [row.target_code-10 if row.target_code<33 else row.target_code-9]\n",
    "\n",
    "    return np.array(X_TICH), np.array(y_TICH)\n"
   ]
  },
  {
   "cell_type": "code",
   "execution_count": 12,
   "metadata": {
    "collapsed": false
   },
   "outputs": [
    {
     "name": "stdout",
     "output_type": "stream",
     "text": [
      "(29186, 64, 64)\n",
      "(29186,)\n"
     ]
    }
   ],
   "source": [
    "X_TICH_trn, y_TICH_trn = exctrac_TICH(train)\n",
    "\n",
    "print(X_TICH_trn.shape)\n",
    "print(y_TICH_trn.shape)"
   ]
  },
  {
   "cell_type": "code",
   "execution_count": 13,
   "metadata": {
    "collapsed": false
   },
   "outputs": [
    {
     "name": "stdout",
     "output_type": "stream",
     "text": [
      "(29186, 64, 64)\n",
      "(29186,)\n"
     ]
    }
   ],
   "source": [
    "X_TICH_val, y_TICH_val = exctrac_TICH(valid)\n",
    "\n",
    "print(X_TICH_val.shape)\n",
    "print(y_TICH_val.shape)"
   ]
  },
  {
   "cell_type": "code",
   "execution_count": 14,
   "metadata": {
    "collapsed": false
   },
   "outputs": [
    {
     "name": "stdout",
     "output_type": "stream",
     "text": [
      "[ 0.          0.          0.          0.          0.          0.          0.\n",
      "  0.          0.          0.          0.          0.          0.          0.\n",
      "  0.          0.          0.          0.          0.          0.          0.\n",
      "  0.          0.          0.          0.          0.00392157  0.00784314\n",
      "  0.03921569  0.08627451  0.13333334  0.35686275  0.5529412   0.67058825\n",
      "  0.74117649  0.81176472  0.8509804   0.72549021  0.57254905  0.37254903\n",
      "  0.07843138  0.01960784  0.          0.          0.          0.          0.\n",
      "  0.          0.          0.          0.          0.          0.          0.\n",
      "  0.          0.          0.          0.          0.          0.          0.\n",
      "  0.          0.          0.          0.        ]\n"
     ]
    }
   ],
   "source": [
    "print(X_TICH_trn[0,12,:])"
   ]
  },
  {
   "cell_type": "code",
   "execution_count": null,
   "metadata": {
    "collapsed": false
   },
   "outputs": [],
   "source": [
    "y_pred = model_u.predict(X_TICH_trn[0:10].reshape((10, 1, 64, 64)), batch_size=10)\n",
    "print y_pred"
   ]
  },
  {
   "cell_type": "code",
   "execution_count": 16,
   "metadata": {
    "collapsed": false
   },
   "outputs": [
    {
     "name": "stdout",
     "output_type": "stream",
     "text": [
      "[ 0  3  7  0 17  3 11  4 18  3]\n"
     ]
    }
   ],
   "source": [
    "print(y_TICH_val[:10])"
   ]
  },
  {
   "cell_type": "code",
   "execution_count": 17,
   "metadata": {
    "collapsed": false
   },
   "outputs": [
    {
     "name": "stdout",
     "output_type": "stream",
     "text": [
      "(29186, 26)\n"
     ]
    }
   ],
   "source": [
    "y_pred = model_u.predict(X_TICH_trn.reshape((29186, 1, 64, 64)), batch_size=128)\n",
    "print(y_pred.shape)\n"
   ]
  },
  {
   "cell_type": "code",
   "execution_count": null,
   "metadata": {
    "collapsed": false
   },
   "outputs": [],
   "source": [
    "print(y_pred[0])"
   ]
  },
  {
   "cell_type": "code",
   "execution_count": 19,
   "metadata": {
    "collapsed": false
   },
   "outputs": [
    {
     "name": "stdout",
     "output_type": "stream",
     "text": [
      "0.925786335914\n"
     ]
    }
   ],
   "source": [
    "from sklearn.metrics import accuracy_score\n",
    "\n",
    "print(accuracy_score(y_TICH_val, np.argmax(y_pred, axis=1)))\n",
    "\n"
   ]
  },
  {
   "cell_type": "markdown",
   "metadata": {
    "collapsed": true
   },
   "source": [
    "# Accuracy for TICH database: 0.9258"
   ]
  },
  {
   "cell_type": "code",
   "execution_count": null,
   "metadata": {
    "collapsed": true
   },
   "outputs": [],
   "source": []
  },
  {
   "cell_type": "markdown",
   "metadata": {},
   "source": [
    "# Use the previous created model to score NIST database"
   ]
  },
  {
   "cell_type": "code",
   "execution_count": 20,
   "metadata": {
    "collapsed": false
   },
   "outputs": [
    {
     "name": "stdout",
     "output_type": "stream",
     "text": [
      "A\n",
      "Z\n",
      "{0: 'A', 1: 'B', 2: 'C', 3: 'D', 4: 'E', 5: 'F', 6: 'G', 7: 'H', 8: 'I', 9: 'J', 10: 'K', 11: 'L', 12: 'M', 13: 'N', 14: 'O', 15: 'P', 16: 'Q', 17: 'R', 18: 'S', 19: 'T', 20: 'U', 21: 'V', 22: 'W', 23: 'X', 24: 'Y', 25: 'Z'}\n",
      "{0: 'a', 1: 'b', 2: 'c', 3: 'd', 4: 'e', 5: 'f', 6: 'g', 7: 'h', 8: 'i', 9: 'j', 10: 'k', 11: 'l', 12: 'm', 13: 'n', 14: 'o', 15: 'p', 16: 'q', 17: 'r', 18: 's', 19: 't', 20: 'u', 21: 'v', 22: 'w', 23: 'x', 24: 'y', 25: 'z'}\n"
     ]
    }
   ],
   "source": [
    "#Read NIST dataset \n",
    "path_NIST='/home/jorge/data/tesis/handwriting/databases/NIST/by_class/'\n",
    "\n",
    "\n",
    "char_list_up = ['41','42','43','44','45','46','47','48','49','4a','4b','4c','4d',\n",
    "                '4e','4f','50','51','52','53','54','55','56','57','58','59','5a']\n",
    "           \n",
    "char_list_lo = ['61','62','63','64','65','66','67','68','69','6a','6b','6c','6d'\n",
    "               ,'6e','6f','70','71','72','73','74','75','76','77','78','79','7a']\n",
    "\n",
    "print(str(unichr(int('41',16))))\n",
    "print(str(unichr(int('5a',16))))\n",
    "\n",
    "decode_up={}\n",
    "encode_up={}\n",
    "for i , c in enumerate(char_list_up):\n",
    "    char = str(unichr(int(c,16)))\n",
    "    decode_up[i] = char\n",
    "    encode_up[char] = i\n",
    "print decode_up               \n",
    "\n",
    "\n",
    "decode_lo={}\n",
    "encode_lo={}\n",
    "for i , c in enumerate(char_list_lo):\n",
    "    char = str(unichr(int(c,16)))\n",
    "    decode_lo[i] = char\n",
    "    encode_lo[char] = i\n",
    "print decode_lo               \n"
   ]
  },
  {
   "cell_type": "code",
   "execution_count": 21,
   "metadata": {
    "collapsed": true
   },
   "outputs": [],
   "source": [
    "# Generator of list of files in a folder and subfolders\n",
    "import os\n",
    "import shutil\n",
    "import fnmatch\n",
    "\n",
    "def gen_find(filepat,top):\n",
    "    for path, dirlist, filelist in os.walk(top):\n",
    "        for name in fnmatch.filter(filelist,filepat):\n",
    "            yield os.path.join(path,name)"
   ]
  },
  {
   "cell_type": "code",
   "execution_count": 47,
   "metadata": {
    "collapsed": false
   },
   "outputs": [
    {
     "name": "stdout",
     "output_type": "stream",
     "text": [
      "(11941, 64, 64)\n",
      "(11941,)\n"
     ]
    }
   ],
   "source": [
    "hsf='/hsf_4/'\n",
    "\n",
    "#Read test dataset\n",
    "X_NIST_up=[]\n",
    "y_NIST_up=[]\n",
    "for char in char_list_up:\n",
    "    letter = str(unichr(int(char,16)))\n",
    "    images_list = gen_find(\"*.png\", path_NIST+char+hsf) \n",
    "    for img_name in images_list:\n",
    "        img = plt.imread(img_name)\n",
    "        \n",
    "        #Transform\n",
    "        img = img[32:96,32:96,0]\n",
    "        \n",
    "        X_NIST_up += [img]\n",
    "        y_NIST_up += [encode_up[letter]]\n",
    "\n",
    "X_NIST_up = 1. - np.array(X_NIST_up)\n",
    "y_NIST_up = np.array(y_NIST_up)\n",
    "        \n",
    "print(X_NIST_up.shape)\n",
    "print(y_NIST_up.shape)"
   ]
  },
  {
   "cell_type": "code",
   "execution_count": 48,
   "metadata": {
    "collapsed": false
   },
   "outputs": [
    {
     "name": "stdout",
     "output_type": "stream",
     "text": [
      "[ 0.  0.  0.  0.  0.  0.  0.  0.  0.  1.  1.  1.  1.  1.  1.  1.  1.  1.\n",
      "  1.  1.  1.  1.  1.  1.  1.  1.  1.  1.  1.  1.  1.  1.  1.  1.  1.  1.\n",
      "  1.  1.  1.  1.  1.  1.  1.  1.  1.  1.  1.  1.  1.  1.  1.  1.  1.  1.\n",
      "  0.  0.  0.  0.  0.  0.  0.  0.  0.  0.]\n"
     ]
    }
   ],
   "source": [
    "print(X_NIST_up[0,32,:])"
   ]
  },
  {
   "cell_type": "code",
   "execution_count": 49,
   "metadata": {
    "collapsed": false
   },
   "outputs": [
    {
     "name": "stdout",
     "output_type": "stream",
     "text": [
      "(11941, 26)\n"
     ]
    }
   ],
   "source": [
    "y_pred = model_u.predict(X_NIST_up.reshape((11941, 1, 64, 64)), batch_size=128)\n",
    "print(y_pred.shape)\n"
   ]
  },
  {
   "cell_type": "code",
   "execution_count": 50,
   "metadata": {
    "collapsed": false
   },
   "outputs": [
    {
     "name": "stdout",
     "output_type": "stream",
     "text": [
      "0.92915166234\n"
     ]
    }
   ],
   "source": [
    "from sklearn.metrics import accuracy_score\n",
    "\n",
    "print(accuracy_score(y_NIST_up, np.argmax(y_pred, axis=1)))"
   ]
  },
  {
   "cell_type": "markdown",
   "metadata": {
    "collapsed": false
   },
   "source": [
    "# Accuracy for NIST database (2nd ed) upper case: 92,9%\n",
    "    - The low score can be explained because the NIST database is binary (pixels only 0 or 1).\n",
    "    - We need to train the same architecture over the NIST database in order to obtain a better comparation to others."
   ]
  }
 ],
 "metadata": {
  "kernelspec": {
   "display_name": "Python 2",
   "language": "python",
   "name": "python2"
  },
  "language_info": {
   "codemirror_mode": {
    "name": "ipython",
    "version": 2
   },
   "file_extension": ".py",
   "mimetype": "text/x-python",
   "name": "python",
   "nbconvert_exporter": "python",
   "pygments_lexer": "ipython2",
   "version": "2.7.6"
  }
 },
 "nbformat": 4,
 "nbformat_minor": 0
}
